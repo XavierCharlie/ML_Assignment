{
 "cells": [
  {
   "cell_type": "markdown",
   "metadata": {},
   "source": [
    "# Bank Marketing"
   ]
  },
  {
   "cell_type": "markdown",
   "metadata": {},
   "source": [
    "## Overview"
   ]
  },
  {
   "cell_type": "markdown",
   "metadata": {},
   "source": [
    "The  data is related with direct marketing campaigns of a Portuguese banking institution. The marketing campaigns were based on phone calls. Often, more than one contact to the same client was required, in order to access if the product (bank term deposit) would be ('yes') or not ('no') subscribed.  \n",
    "\n",
    "We chose this dataset because its big enough, so when we split it into train, validation and test, these subsets will be relatively big for our algorithms to learn well increasing their accuracy and reliability also because Marketing is a very crucial part of every business, so knowing how to win a customer sounded very interesting to us since we are anticipating on changing the world in the business field in future.\n",
    "\n",
    "## Dataset Overview\n",
    "### The Dataset has 20 Input Variables  (Features):\n",
    "\n",
    "**#bank client data:**  \n",
    "1 - _Age_ (numeric)  \n",
    "2 - _Job_ **:** type of job (categorical: 'admin.', 'blue-collar', 'entrepreneur', 'housemaid', 'management', 'retired', 'self-employed', 'services', 'student', 'technician', 'unemployed', 'unknown')  \n",
    "3 - _Marital_ **:** marital status (categorical: 'divorced','married','single','unknown'; note: 'divorced' means divorced or widowed)  \n",
    "4 - _Education_ (categorical:   'basic.4y', 'basic.6y', 'basic.9y', 'high.school', 'illiterate', 'professional.course', 'university.degree', 'unknown')  \n",
    "5 - _Default_ **:** has credit in default? (categorical: 'no', 'yes', 'unknown')\n",
    "6 - _Housing_ **:** has housing loan? (categorical: 'no', 'yes', 'unknown')  \n",
    "7 - _Loan_ **:** has personal loan? (categorical: 'no', 'yes', 'unknown')  \n",
    "\n",
    "**#related with the last contact of the current campaign:**  \n",
    "8 - _Contact_ **:** contact communication type (categorical: 'cellular', 'telephone')  \n",
    "9 - _Month_ **:** last contact month of year (categorical: 'jan', 'feb', 'mar', ..., 'nov', 'dec')  \n",
    "10 - _Day_of_week_ **:** last contact day of the week (categorical: 'mon', 'tue', 'wed', 'thu', 'fri')  \n",
    "11 - _Duration_ **:** last contact duration, in seconds (numeric). Important note: this attribute highly affects the output target (e.g., if duration=0 then y='no'). Yet, the duration is not known before a call is performed. Also, after the end of the call y is obviously known. Thus, this input should only be included for benchmark purposes and should be discarded if the intention is to have a realistic predictive model.  \n",
    "\n",
    "**#other attributes:**  \n",
    "12 - _Campaign_ **:** number of contacts performed during this campaign and for this client (numeric, includes last contact)  \n",
    "13 - _pDays_ **:** number of days that passed by after the client was last contacted from a previous campaign (numeric; 999 means client was not previously contacted)  \n",
    "14 - _Previous_ **:** number of contacts performed before this campaign and for this client (numeric)  \n",
    "15 - _pOutcome_ **:** outcome of the previous marketing campaign (categorical: 'failure', 'nonexistent', 'success')  \n",
    "\n",
    "**#social and economic context attributes**  \n",
    "16 - _emp.var.rate_ **:** employment variation rate - quarterly indicator (numeric)  \n",
    "17 - _cons.price.idx_ **:** consumer price index - monthly indicator (numeric)  \n",
    "18 - _cons.conf.idx_ **:** consumer confidence index - monthly indicator (numeric)  \n",
    "19 - _Euribor3m_ **:** euribor 3 month rate - daily indicator (numeric)  \n",
    "20 - _nr.employed_ **:** number of employees - quarterly indicator (numeric)  \n",
    "\n",
    "### Output Variable (Desired Target):\n",
    "y - has the client subscribed a term deposit? (binary: 'yes', 'no')"
   ]
  },
  {
   "cell_type": "markdown",
   "metadata": {},
   "source": [
    "## Contributors:\n",
    "* Phillip Moyo – 2185695   \n",
    "* Moshito Charles Makgakga – 1445435   \n",
    "* Godfrey T Chamunogwa – 2234379\n",
    "* Fankholoro Vincent Sebothoma – 1671848   "
   ]
  },
  {
   "cell_type": "markdown",
   "metadata": {},
   "source": [
    "# Logistic Regression\n",
    " "
   ]
  },
  {
   "cell_type": "markdown",
   "metadata": {},
   "source": [
    "# Import Libraries"
   ]
  },
  {
   "cell_type": "code",
   "execution_count": 1,
   "metadata": {},
   "outputs": [],
   "source": [
    "import numpy as np\n",
    "import matplotlib.pyplot as plt\n",
    "import pandas as pd\n",
    "import matplotlib.pyplot as plt\n",
    "from sklearn.preprocessing import LabelEncoder,OneHotEncoder,MinMaxScaler"
   ]
  },
  {
   "cell_type": "markdown",
   "metadata": {},
   "source": [
    "# Import the Dataset\n"
   ]
  },
  {
   "cell_type": "code",
   "execution_count": 2,
   "metadata": {
    "scrolled": false
   },
   "outputs": [],
   "source": [
    "df = pd.read_csv('bank-full.csv', sep=\";\")\n"
   ]
  },
  {
   "cell_type": "markdown",
   "metadata": {},
   "source": [
    "## Trimming the Data\n",
    "The Data is heavily biased, so we are trimming it to make the different output classes more even (unbiased)"
   ]
  },
  {
   "cell_type": "code",
   "execution_count": 3,
   "metadata": {
    "scrolled": false
   },
   "outputs": [
    {
     "data": {
      "text/html": [
       "<div>\n",
       "<style scoped>\n",
       "    .dataframe tbody tr th:only-of-type {\n",
       "        vertical-align: middle;\n",
       "    }\n",
       "\n",
       "    .dataframe tbody tr th {\n",
       "        vertical-align: top;\n",
       "    }\n",
       "\n",
       "    .dataframe thead th {\n",
       "        text-align: right;\n",
       "    }\n",
       "</style>\n",
       "<table border=\"1\" class=\"dataframe\">\n",
       "  <thead>\n",
       "    <tr style=\"text-align: right;\">\n",
       "      <th></th>\n",
       "      <th>age</th>\n",
       "      <th>job</th>\n",
       "      <th>marital</th>\n",
       "      <th>education</th>\n",
       "      <th>default</th>\n",
       "      <th>balance</th>\n",
       "      <th>housing</th>\n",
       "      <th>loan</th>\n",
       "      <th>contact</th>\n",
       "      <th>day</th>\n",
       "      <th>month</th>\n",
       "      <th>duration</th>\n",
       "      <th>campaign</th>\n",
       "      <th>pdays</th>\n",
       "      <th>previous</th>\n",
       "      <th>poutcome</th>\n",
       "      <th>y</th>\n",
       "    </tr>\n",
       "  </thead>\n",
       "  <tbody>\n",
       "    <tr>\n",
       "      <th>0</th>\n",
       "      <td>34</td>\n",
       "      <td>services</td>\n",
       "      <td>single</td>\n",
       "      <td>secondary</td>\n",
       "      <td>no</td>\n",
       "      <td>-374</td>\n",
       "      <td>yes</td>\n",
       "      <td>no</td>\n",
       "      <td>cellular</td>\n",
       "      <td>11</td>\n",
       "      <td>may</td>\n",
       "      <td>672</td>\n",
       "      <td>1</td>\n",
       "      <td>-1</td>\n",
       "      <td>0</td>\n",
       "      <td>unknown</td>\n",
       "      <td>yes</td>\n",
       "    </tr>\n",
       "    <tr>\n",
       "      <th>1</th>\n",
       "      <td>30</td>\n",
       "      <td>technician</td>\n",
       "      <td>single</td>\n",
       "      <td>tertiary</td>\n",
       "      <td>no</td>\n",
       "      <td>-522</td>\n",
       "      <td>yes</td>\n",
       "      <td>no</td>\n",
       "      <td>unknown</td>\n",
       "      <td>13</td>\n",
       "      <td>may</td>\n",
       "      <td>375</td>\n",
       "      <td>1</td>\n",
       "      <td>-1</td>\n",
       "      <td>0</td>\n",
       "      <td>unknown</td>\n",
       "      <td>no</td>\n",
       "    </tr>\n",
       "    <tr>\n",
       "      <th>2</th>\n",
       "      <td>55</td>\n",
       "      <td>retired</td>\n",
       "      <td>married</td>\n",
       "      <td>secondary</td>\n",
       "      <td>no</td>\n",
       "      <td>102</td>\n",
       "      <td>yes</td>\n",
       "      <td>no</td>\n",
       "      <td>unknown</td>\n",
       "      <td>7</td>\n",
       "      <td>may</td>\n",
       "      <td>74</td>\n",
       "      <td>1</td>\n",
       "      <td>-1</td>\n",
       "      <td>0</td>\n",
       "      <td>unknown</td>\n",
       "      <td>no</td>\n",
       "    </tr>\n",
       "    <tr>\n",
       "      <th>3</th>\n",
       "      <td>56</td>\n",
       "      <td>retired</td>\n",
       "      <td>divorced</td>\n",
       "      <td>tertiary</td>\n",
       "      <td>no</td>\n",
       "      <td>158</td>\n",
       "      <td>no</td>\n",
       "      <td>yes</td>\n",
       "      <td>cellular</td>\n",
       "      <td>21</td>\n",
       "      <td>jul</td>\n",
       "      <td>854</td>\n",
       "      <td>1</td>\n",
       "      <td>-1</td>\n",
       "      <td>0</td>\n",
       "      <td>unknown</td>\n",
       "      <td>yes</td>\n",
       "    </tr>\n",
       "    <tr>\n",
       "      <th>4</th>\n",
       "      <td>27</td>\n",
       "      <td>student</td>\n",
       "      <td>single</td>\n",
       "      <td>secondary</td>\n",
       "      <td>no</td>\n",
       "      <td>6036</td>\n",
       "      <td>no</td>\n",
       "      <td>no</td>\n",
       "      <td>cellular</td>\n",
       "      <td>31</td>\n",
       "      <td>mar</td>\n",
       "      <td>175</td>\n",
       "      <td>1</td>\n",
       "      <td>181</td>\n",
       "      <td>1</td>\n",
       "      <td>failure</td>\n",
       "      <td>yes</td>\n",
       "    </tr>\n",
       "    <tr>\n",
       "      <th>...</th>\n",
       "      <td>...</td>\n",
       "      <td>...</td>\n",
       "      <td>...</td>\n",
       "      <td>...</td>\n",
       "      <td>...</td>\n",
       "      <td>...</td>\n",
       "      <td>...</td>\n",
       "      <td>...</td>\n",
       "      <td>...</td>\n",
       "      <td>...</td>\n",
       "      <td>...</td>\n",
       "      <td>...</td>\n",
       "      <td>...</td>\n",
       "      <td>...</td>\n",
       "      <td>...</td>\n",
       "      <td>...</td>\n",
       "      <td>...</td>\n",
       "    </tr>\n",
       "    <tr>\n",
       "      <th>10573</th>\n",
       "      <td>34</td>\n",
       "      <td>blue-collar</td>\n",
       "      <td>married</td>\n",
       "      <td>secondary</td>\n",
       "      <td>no</td>\n",
       "      <td>1710</td>\n",
       "      <td>yes</td>\n",
       "      <td>yes</td>\n",
       "      <td>unknown</td>\n",
       "      <td>19</td>\n",
       "      <td>may</td>\n",
       "      <td>187</td>\n",
       "      <td>3</td>\n",
       "      <td>-1</td>\n",
       "      <td>0</td>\n",
       "      <td>unknown</td>\n",
       "      <td>no</td>\n",
       "    </tr>\n",
       "    <tr>\n",
       "      <th>10574</th>\n",
       "      <td>30</td>\n",
       "      <td>blue-collar</td>\n",
       "      <td>single</td>\n",
       "      <td>primary</td>\n",
       "      <td>no</td>\n",
       "      <td>4009</td>\n",
       "      <td>yes</td>\n",
       "      <td>no</td>\n",
       "      <td>unknown</td>\n",
       "      <td>23</td>\n",
       "      <td>may</td>\n",
       "      <td>260</td>\n",
       "      <td>4</td>\n",
       "      <td>-1</td>\n",
       "      <td>0</td>\n",
       "      <td>unknown</td>\n",
       "      <td>no</td>\n",
       "    </tr>\n",
       "    <tr>\n",
       "      <th>10575</th>\n",
       "      <td>57</td>\n",
       "      <td>retired</td>\n",
       "      <td>married</td>\n",
       "      <td>secondary</td>\n",
       "      <td>no</td>\n",
       "      <td>486</td>\n",
       "      <td>yes</td>\n",
       "      <td>no</td>\n",
       "      <td>unknown</td>\n",
       "      <td>5</td>\n",
       "      <td>may</td>\n",
       "      <td>180</td>\n",
       "      <td>2</td>\n",
       "      <td>-1</td>\n",
       "      <td>0</td>\n",
       "      <td>unknown</td>\n",
       "      <td>no</td>\n",
       "    </tr>\n",
       "    <tr>\n",
       "      <th>10576</th>\n",
       "      <td>49</td>\n",
       "      <td>technician</td>\n",
       "      <td>divorced</td>\n",
       "      <td>unknown</td>\n",
       "      <td>no</td>\n",
       "      <td>387</td>\n",
       "      <td>no</td>\n",
       "      <td>no</td>\n",
       "      <td>cellular</td>\n",
       "      <td>28</td>\n",
       "      <td>jan</td>\n",
       "      <td>325</td>\n",
       "      <td>1</td>\n",
       "      <td>-1</td>\n",
       "      <td>0</td>\n",
       "      <td>unknown</td>\n",
       "      <td>yes</td>\n",
       "    </tr>\n",
       "    <tr>\n",
       "      <th>10577</th>\n",
       "      <td>34</td>\n",
       "      <td>blue-collar</td>\n",
       "      <td>single</td>\n",
       "      <td>primary</td>\n",
       "      <td>no</td>\n",
       "      <td>-109</td>\n",
       "      <td>yes</td>\n",
       "      <td>no</td>\n",
       "      <td>cellular</td>\n",
       "      <td>15</td>\n",
       "      <td>jul</td>\n",
       "      <td>860</td>\n",
       "      <td>4</td>\n",
       "      <td>-1</td>\n",
       "      <td>0</td>\n",
       "      <td>unknown</td>\n",
       "      <td>yes</td>\n",
       "    </tr>\n",
       "  </tbody>\n",
       "</table>\n",
       "<p>10578 rows × 17 columns</p>\n",
       "</div>"
      ],
      "text/plain": [
       "       age          job   marital  education default  balance housing loan  \\\n",
       "0       34     services    single  secondary      no     -374     yes   no   \n",
       "1       30   technician    single   tertiary      no     -522     yes   no   \n",
       "2       55      retired   married  secondary      no      102     yes   no   \n",
       "3       56      retired  divorced   tertiary      no      158      no  yes   \n",
       "4       27      student    single  secondary      no     6036      no   no   \n",
       "...    ...          ...       ...        ...     ...      ...     ...  ...   \n",
       "10573   34  blue-collar   married  secondary      no     1710     yes  yes   \n",
       "10574   30  blue-collar    single    primary      no     4009     yes   no   \n",
       "10575   57      retired   married  secondary      no      486     yes   no   \n",
       "10576   49   technician  divorced    unknown      no      387      no   no   \n",
       "10577   34  blue-collar    single    primary      no     -109     yes   no   \n",
       "\n",
       "        contact  day month  duration  campaign  pdays  previous poutcome    y  \n",
       "0      cellular   11   may       672         1     -1         0  unknown  yes  \n",
       "1       unknown   13   may       375         1     -1         0  unknown   no  \n",
       "2       unknown    7   may        74         1     -1         0  unknown   no  \n",
       "3      cellular   21   jul       854         1     -1         0  unknown  yes  \n",
       "4      cellular   31   mar       175         1    181         1  failure  yes  \n",
       "...         ...  ...   ...       ...       ...    ...       ...      ...  ...  \n",
       "10573   unknown   19   may       187         3     -1         0  unknown   no  \n",
       "10574   unknown   23   may       260         4     -1         0  unknown   no  \n",
       "10575   unknown    5   may       180         2     -1         0  unknown   no  \n",
       "10576  cellular   28   jan       325         1     -1         0  unknown  yes  \n",
       "10577  cellular   15   jul       860         4     -1         0  unknown  yes  \n",
       "\n",
       "[10578 rows x 17 columns]"
      ]
     },
     "execution_count": 3,
     "metadata": {},
     "output_type": "execute_result"
    }
   ],
   "source": [
    "df_yes = df[df['y']=='yes']\n",
    "df_no = df[df['y']=='no']\n",
    "df_no = df_no.iloc[:5289, :]\n",
    "\n",
    "df = pd.concat([df_yes, df_no])\n",
    "df = df.sample(frac=1).reset_index(drop=True)       #shuffle the rows\n",
    "df"
   ]
  },
  {
   "cell_type": "markdown",
   "metadata": {},
   "source": [
    "# Feature Scaling"
   ]
  },
  {
   "cell_type": "code",
   "execution_count": 4,
   "metadata": {
    "scrolled": false
   },
   "outputs": [],
   "source": [
    "##--scaling column(y)=> 'yes'=1 and 'no'=0 also @there are no null values in our dataset---##\n",
    "y = LabelEncoder()\n",
    "df.iloc[:,-1] = y.fit_transform(df.iloc[:,-1])"
   ]
  },
  {
   "cell_type": "code",
   "execution_count": 5,
   "metadata": {},
   "outputs": [],
   "source": [
    "##--scaling column(poutcome)=> 'failure'=0, 'other'=1, 'success'=2, 'unknown'=3\n",
    "poutcome = LabelEncoder()\n",
    "df.iloc[:,-2] = poutcome.fit_transform(df.iloc[:,-2])"
   ]
  },
  {
   "cell_type": "code",
   "execution_count": 6,
   "metadata": {},
   "outputs": [],
   "source": [
    "##--scaling column(contact)=> 'cellular'=0, 'telephone'=1, 'unknown'=2\n",
    "contact = LabelEncoder()\n",
    "df.iloc[:,8] = contact.fit_transform(df.iloc[:,8])"
   ]
  },
  {
   "cell_type": "code",
   "execution_count": 7,
   "metadata": {},
   "outputs": [],
   "source": [
    "##--scaling column(marital)=> 'married'=1, 'divorced'=0, 'single'=2\n",
    "marital = LabelEncoder()\n",
    "df.iloc[:,2] = marital.fit_transform(df.iloc[:,2])"
   ]
  },
  {
   "cell_type": "code",
   "execution_count": 8,
   "metadata": {},
   "outputs": [],
   "source": [
    "##--scaling column(education)=> 'primary'=0, 'secondary'=1, 'tertiary'=2, 'unknown'=3\n",
    "education = LabelEncoder()\n",
    "df.iloc[:,3] = education.fit_transform(df.iloc[:,3])"
   ]
  },
  {
   "cell_type": "code",
   "execution_count": 9,
   "metadata": {},
   "outputs": [],
   "source": [
    "##--scaling column(default)=> 'yes'=1, 'no'=0'\n",
    "default = LabelEncoder()\n",
    "df.iloc[:,4] = default.fit_transform(df.iloc[:,4])"
   ]
  },
  {
   "cell_type": "code",
   "execution_count": 10,
   "metadata": {},
   "outputs": [],
   "source": [
    "##--scaling column(housing)=> 'yes'=1, 'no'=0'\n",
    "housing = LabelEncoder()\n",
    "df.iloc[:,6] = housing.fit_transform(df.iloc[:,6])"
   ]
  },
  {
   "cell_type": "code",
   "execution_count": 11,
   "metadata": {
    "scrolled": false
   },
   "outputs": [],
   "source": [
    "##--scaling column(loan)=> 'yes'=1, 'no'=0'\n",
    "loan = LabelEncoder()\n",
    "df.iloc[:,7] = loan.fit_transform(df.iloc[:,7])"
   ]
  },
  {
   "cell_type": "code",
   "execution_count": 12,
   "metadata": {
    "scrolled": true
   },
   "outputs": [],
   "source": [
    "##--scaling column(month)=> 'jan'=1,'feb'=2, 'mar'=3,...,'dec'=12\n",
    "month = df.iloc[:,10].replace(['jan','feb','mar','apr','may','jun','jul','aug','sep','oct','nov','dec'],[1,2,3,4,5,6,7,8,9,10,11,12])\n",
    "df.iloc[:,10] = month "
   ]
  },
  {
   "cell_type": "code",
   "execution_count": 13,
   "metadata": {},
   "outputs": [],
   "source": [
    "##--scaling column(job)\n",
    "job = df.iloc[:,1].replace(['blue-collar', 'admin.', 'technician', 'management', 'retired','student', 'entrepreneur', 'services', 'self-employed','unemployed', 'housemaid', 'unknown'],[1,2,3,4,5,6,7,8,9,10,11,12])\n",
    "df.iloc[:,1] = job "
   ]
  },
  {
   "cell_type": "code",
   "execution_count": 14,
   "metadata": {},
   "outputs": [],
   "source": [
    "# add bias column of 1's\n",
    "df.insert(0, 'bias', np.ones(df.shape[0]))"
   ]
  },
  {
   "cell_type": "code",
   "execution_count": 15,
   "metadata": {},
   "outputs": [
    {
     "data": {
      "text/html": [
       "<div>\n",
       "<style scoped>\n",
       "    .dataframe tbody tr th:only-of-type {\n",
       "        vertical-align: middle;\n",
       "    }\n",
       "\n",
       "    .dataframe tbody tr th {\n",
       "        vertical-align: top;\n",
       "    }\n",
       "\n",
       "    .dataframe thead th {\n",
       "        text-align: right;\n",
       "    }\n",
       "</style>\n",
       "<table border=\"1\" class=\"dataframe\">\n",
       "  <thead>\n",
       "    <tr style=\"text-align: right;\">\n",
       "      <th></th>\n",
       "      <th>bias</th>\n",
       "      <th>age</th>\n",
       "      <th>job</th>\n",
       "      <th>marital</th>\n",
       "      <th>education</th>\n",
       "      <th>default</th>\n",
       "      <th>balance</th>\n",
       "      <th>housing</th>\n",
       "      <th>loan</th>\n",
       "      <th>contact</th>\n",
       "      <th>day</th>\n",
       "      <th>month</th>\n",
       "      <th>duration</th>\n",
       "      <th>campaign</th>\n",
       "      <th>pdays</th>\n",
       "      <th>previous</th>\n",
       "      <th>poutcome</th>\n",
       "      <th>y</th>\n",
       "    </tr>\n",
       "  </thead>\n",
       "  <tbody>\n",
       "    <tr>\n",
       "      <th>0</th>\n",
       "      <td>1.0</td>\n",
       "      <td>0.207792</td>\n",
       "      <td>0.636364</td>\n",
       "      <td>1.0</td>\n",
       "      <td>0.333333</td>\n",
       "      <td>0.0</td>\n",
       "      <td>0.034774</td>\n",
       "      <td>1.0</td>\n",
       "      <td>0.0</td>\n",
       "      <td>0.0</td>\n",
       "      <td>0.333333</td>\n",
       "      <td>0.363636</td>\n",
       "      <td>0.172725</td>\n",
       "      <td>0.000000</td>\n",
       "      <td>0.000000</td>\n",
       "      <td>0.000000</td>\n",
       "      <td>1.0</td>\n",
       "      <td>1</td>\n",
       "    </tr>\n",
       "    <tr>\n",
       "      <th>1</th>\n",
       "      <td>1.0</td>\n",
       "      <td>0.155844</td>\n",
       "      <td>0.181818</td>\n",
       "      <td>1.0</td>\n",
       "      <td>0.666667</td>\n",
       "      <td>0.0</td>\n",
       "      <td>0.033023</td>\n",
       "      <td>1.0</td>\n",
       "      <td>0.0</td>\n",
       "      <td>1.0</td>\n",
       "      <td>0.400000</td>\n",
       "      <td>0.363636</td>\n",
       "      <td>0.096159</td>\n",
       "      <td>0.000000</td>\n",
       "      <td>0.000000</td>\n",
       "      <td>0.000000</td>\n",
       "      <td>1.0</td>\n",
       "      <td>0</td>\n",
       "    </tr>\n",
       "    <tr>\n",
       "      <th>2</th>\n",
       "      <td>1.0</td>\n",
       "      <td>0.480519</td>\n",
       "      <td>0.363636</td>\n",
       "      <td>0.5</td>\n",
       "      <td>0.333333</td>\n",
       "      <td>0.0</td>\n",
       "      <td>0.040406</td>\n",
       "      <td>1.0</td>\n",
       "      <td>0.0</td>\n",
       "      <td>1.0</td>\n",
       "      <td>0.200000</td>\n",
       "      <td>0.363636</td>\n",
       "      <td>0.018561</td>\n",
       "      <td>0.000000</td>\n",
       "      <td>0.000000</td>\n",
       "      <td>0.000000</td>\n",
       "      <td>1.0</td>\n",
       "      <td>0</td>\n",
       "    </tr>\n",
       "    <tr>\n",
       "      <th>3</th>\n",
       "      <td>1.0</td>\n",
       "      <td>0.493506</td>\n",
       "      <td>0.363636</td>\n",
       "      <td>0.0</td>\n",
       "      <td>0.666667</td>\n",
       "      <td>0.0</td>\n",
       "      <td>0.041069</td>\n",
       "      <td>0.0</td>\n",
       "      <td>1.0</td>\n",
       "      <td>0.0</td>\n",
       "      <td>0.666667</td>\n",
       "      <td>0.545455</td>\n",
       "      <td>0.219644</td>\n",
       "      <td>0.000000</td>\n",
       "      <td>0.000000</td>\n",
       "      <td>0.000000</td>\n",
       "      <td>1.0</td>\n",
       "      <td>1</td>\n",
       "    </tr>\n",
       "    <tr>\n",
       "      <th>4</th>\n",
       "      <td>1.0</td>\n",
       "      <td>0.116883</td>\n",
       "      <td>0.454545</td>\n",
       "      <td>1.0</td>\n",
       "      <td>0.333333</td>\n",
       "      <td>0.0</td>\n",
       "      <td>0.110617</td>\n",
       "      <td>0.0</td>\n",
       "      <td>0.0</td>\n",
       "      <td>0.0</td>\n",
       "      <td>1.000000</td>\n",
       "      <td>0.181818</td>\n",
       "      <td>0.044599</td>\n",
       "      <td>0.000000</td>\n",
       "      <td>0.212865</td>\n",
       "      <td>0.017241</td>\n",
       "      <td>0.0</td>\n",
       "      <td>1</td>\n",
       "    </tr>\n",
       "    <tr>\n",
       "      <th>...</th>\n",
       "      <td>...</td>\n",
       "      <td>...</td>\n",
       "      <td>...</td>\n",
       "      <td>...</td>\n",
       "      <td>...</td>\n",
       "      <td>...</td>\n",
       "      <td>...</td>\n",
       "      <td>...</td>\n",
       "      <td>...</td>\n",
       "      <td>...</td>\n",
       "      <td>...</td>\n",
       "      <td>...</td>\n",
       "      <td>...</td>\n",
       "      <td>...</td>\n",
       "      <td>...</td>\n",
       "      <td>...</td>\n",
       "      <td>...</td>\n",
       "      <td>...</td>\n",
       "    </tr>\n",
       "    <tr>\n",
       "      <th>10573</th>\n",
       "      <td>1.0</td>\n",
       "      <td>0.207792</td>\n",
       "      <td>0.000000</td>\n",
       "      <td>0.5</td>\n",
       "      <td>0.333333</td>\n",
       "      <td>0.0</td>\n",
       "      <td>0.059432</td>\n",
       "      <td>1.0</td>\n",
       "      <td>1.0</td>\n",
       "      <td>1.0</td>\n",
       "      <td>0.600000</td>\n",
       "      <td>0.363636</td>\n",
       "      <td>0.047693</td>\n",
       "      <td>0.032258</td>\n",
       "      <td>0.000000</td>\n",
       "      <td>0.000000</td>\n",
       "      <td>1.0</td>\n",
       "      <td>0</td>\n",
       "    </tr>\n",
       "    <tr>\n",
       "      <th>10574</th>\n",
       "      <td>1.0</td>\n",
       "      <td>0.155844</td>\n",
       "      <td>0.000000</td>\n",
       "      <td>1.0</td>\n",
       "      <td>0.000000</td>\n",
       "      <td>0.0</td>\n",
       "      <td>0.086633</td>\n",
       "      <td>1.0</td>\n",
       "      <td>0.0</td>\n",
       "      <td>1.0</td>\n",
       "      <td>0.733333</td>\n",
       "      <td>0.363636</td>\n",
       "      <td>0.066512</td>\n",
       "      <td>0.048387</td>\n",
       "      <td>0.000000</td>\n",
       "      <td>0.000000</td>\n",
       "      <td>1.0</td>\n",
       "      <td>0</td>\n",
       "    </tr>\n",
       "    <tr>\n",
       "      <th>10575</th>\n",
       "      <td>1.0</td>\n",
       "      <td>0.506494</td>\n",
       "      <td>0.363636</td>\n",
       "      <td>0.5</td>\n",
       "      <td>0.333333</td>\n",
       "      <td>0.0</td>\n",
       "      <td>0.044950</td>\n",
       "      <td>1.0</td>\n",
       "      <td>0.0</td>\n",
       "      <td>1.0</td>\n",
       "      <td>0.133333</td>\n",
       "      <td>0.363636</td>\n",
       "      <td>0.045888</td>\n",
       "      <td>0.016129</td>\n",
       "      <td>0.000000</td>\n",
       "      <td>0.000000</td>\n",
       "      <td>1.0</td>\n",
       "      <td>0</td>\n",
       "    </tr>\n",
       "    <tr>\n",
       "      <th>10576</th>\n",
       "      <td>1.0</td>\n",
       "      <td>0.402597</td>\n",
       "      <td>0.181818</td>\n",
       "      <td>0.0</td>\n",
       "      <td>1.000000</td>\n",
       "      <td>0.0</td>\n",
       "      <td>0.043778</td>\n",
       "      <td>0.0</td>\n",
       "      <td>0.0</td>\n",
       "      <td>0.0</td>\n",
       "      <td>0.900000</td>\n",
       "      <td>0.000000</td>\n",
       "      <td>0.083269</td>\n",
       "      <td>0.000000</td>\n",
       "      <td>0.000000</td>\n",
       "      <td>0.000000</td>\n",
       "      <td>1.0</td>\n",
       "      <td>1</td>\n",
       "    </tr>\n",
       "    <tr>\n",
       "      <th>10577</th>\n",
       "      <td>1.0</td>\n",
       "      <td>0.207792</td>\n",
       "      <td>0.000000</td>\n",
       "      <td>1.0</td>\n",
       "      <td>0.000000</td>\n",
       "      <td>0.0</td>\n",
       "      <td>0.037910</td>\n",
       "      <td>1.0</td>\n",
       "      <td>0.0</td>\n",
       "      <td>0.0</td>\n",
       "      <td>0.466667</td>\n",
       "      <td>0.545455</td>\n",
       "      <td>0.221191</td>\n",
       "      <td>0.048387</td>\n",
       "      <td>0.000000</td>\n",
       "      <td>0.000000</td>\n",
       "      <td>1.0</td>\n",
       "      <td>1</td>\n",
       "    </tr>\n",
       "  </tbody>\n",
       "</table>\n",
       "<p>10578 rows × 18 columns</p>\n",
       "</div>"
      ],
      "text/plain": [
       "       bias       age       job  marital  education  default   balance  \\\n",
       "0       1.0  0.207792  0.636364      1.0   0.333333      0.0  0.034774   \n",
       "1       1.0  0.155844  0.181818      1.0   0.666667      0.0  0.033023   \n",
       "2       1.0  0.480519  0.363636      0.5   0.333333      0.0  0.040406   \n",
       "3       1.0  0.493506  0.363636      0.0   0.666667      0.0  0.041069   \n",
       "4       1.0  0.116883  0.454545      1.0   0.333333      0.0  0.110617   \n",
       "...     ...       ...       ...      ...        ...      ...       ...   \n",
       "10573   1.0  0.207792  0.000000      0.5   0.333333      0.0  0.059432   \n",
       "10574   1.0  0.155844  0.000000      1.0   0.000000      0.0  0.086633   \n",
       "10575   1.0  0.506494  0.363636      0.5   0.333333      0.0  0.044950   \n",
       "10576   1.0  0.402597  0.181818      0.0   1.000000      0.0  0.043778   \n",
       "10577   1.0  0.207792  0.000000      1.0   0.000000      0.0  0.037910   \n",
       "\n",
       "       housing  loan  contact       day     month  duration  campaign  \\\n",
       "0          1.0   0.0      0.0  0.333333  0.363636  0.172725  0.000000   \n",
       "1          1.0   0.0      1.0  0.400000  0.363636  0.096159  0.000000   \n",
       "2          1.0   0.0      1.0  0.200000  0.363636  0.018561  0.000000   \n",
       "3          0.0   1.0      0.0  0.666667  0.545455  0.219644  0.000000   \n",
       "4          0.0   0.0      0.0  1.000000  0.181818  0.044599  0.000000   \n",
       "...        ...   ...      ...       ...       ...       ...       ...   \n",
       "10573      1.0   1.0      1.0  0.600000  0.363636  0.047693  0.032258   \n",
       "10574      1.0   0.0      1.0  0.733333  0.363636  0.066512  0.048387   \n",
       "10575      1.0   0.0      1.0  0.133333  0.363636  0.045888  0.016129   \n",
       "10576      0.0   0.0      0.0  0.900000  0.000000  0.083269  0.000000   \n",
       "10577      1.0   0.0      0.0  0.466667  0.545455  0.221191  0.048387   \n",
       "\n",
       "          pdays  previous  poutcome  y  \n",
       "0      0.000000  0.000000       1.0  1  \n",
       "1      0.000000  0.000000       1.0  0  \n",
       "2      0.000000  0.000000       1.0  0  \n",
       "3      0.000000  0.000000       1.0  1  \n",
       "4      0.212865  0.017241       0.0  1  \n",
       "...         ...       ...       ... ..  \n",
       "10573  0.000000  0.000000       1.0  0  \n",
       "10574  0.000000  0.000000       1.0  0  \n",
       "10575  0.000000  0.000000       1.0  0  \n",
       "10576  0.000000  0.000000       1.0  1  \n",
       "10577  0.000000  0.000000       1.0  1  \n",
       "\n",
       "[10578 rows x 18 columns]"
      ]
     },
     "execution_count": 15,
     "metadata": {},
     "output_type": "execute_result"
    }
   ],
   "source": [
    "## scale the features\n",
    "scaler = MinMaxScaler()\n",
    "columns = ['age', 'job', 'marital', 'education', 'default', 'balance', 'housing', 'loan', 'contact', 'day', 'month', 'duration', 'campaign', 'pdays', 'previous', 'poutcome'] \n",
    "df[columns] = scaler.fit_transform(df[columns])\n",
    "df"
   ]
  },
  {
   "cell_type": "markdown",
   "metadata": {},
   "source": [
    "# Splitting the Dataset into Training, Validation and Test set"
   ]
  },
  {
   "cell_type": "markdown",
   "metadata": {},
   "source": [
    "#### Training data (60% of the data)"
   ]
  },
  {
   "cell_type": "code",
   "execution_count": 16,
   "metadata": {},
   "outputs": [],
   "source": [
    "# trining dataset\n",
    "train_data = df.iloc[:6347:]\n",
    "\n",
    "# training features\n",
    "train_features = train_data.iloc[:,:-1].values\n",
    "\n",
    "# training targets\n",
    "train_targets = train_data.iloc[:,-1].values\n"
   ]
  },
  {
   "cell_type": "markdown",
   "metadata": {},
   "source": [
    "#### Validation data (20% of the data)"
   ]
  },
  {
   "cell_type": "code",
   "execution_count": 17,
   "metadata": {},
   "outputs": [],
   "source": [
    "# validation dataset\n",
    "validate_data = df.iloc[6347:8463:]\n",
    "\n",
    "# validation features\n",
    "validate_features = validate_data.iloc[:,:-1].values\n",
    "\n",
    "# validation targets\n",
    "validate_targets = validate_data.iloc[:,-1].values\n"
   ]
  },
  {
   "cell_type": "markdown",
   "metadata": {},
   "source": [
    "#### Testing data (20% of the data)"
   ]
  },
  {
   "cell_type": "code",
   "execution_count": 18,
   "metadata": {},
   "outputs": [],
   "source": [
    "# testing dataset\n",
    "test_data = df.iloc[8463::]\n",
    "\n",
    "# testing features\n",
    "test_features = test_data.iloc[:,:-1].values\n",
    "\n",
    "# testing targets\n",
    "test_targets = test_data.iloc[:,-1].values"
   ]
  },
  {
   "cell_type": "markdown",
   "metadata": {},
   "source": [
    "# Training the Logistic Regression Model on the Training Set"
   ]
  },
  {
   "cell_type": "markdown",
   "metadata": {},
   "source": [
    "#### Useful definitions"
   ]
  },
  {
   "cell_type": "code",
   "execution_count": 19,
   "metadata": {},
   "outputs": [],
   "source": [
    "def regularizer(params , lambda_):\n",
    "    p = np.array([])\n",
    "    y = params[:1:]\n",
    "    z = params[1:len(params):]*lambda_\n",
    "    p = np.append(p,y)\n",
    "    p = np.append(p,z)\n",
    "    return p"
   ]
  },
  {
   "cell_type": "code",
   "execution_count": 20,
   "metadata": {},
   "outputs": [],
   "source": [
    "# retirns error\n",
    "def Errors(xValues,yValues,parametre):\n",
    "    hx = 1/(1 + np.exp(-(xValues @ parametre)))\n",
    "    ans = -((yValues @ np.log(hx) +  (1 - yValues) @ np.log(1 - hx)))\n",
    "    return ans"
   ]
  },
  {
   "cell_type": "code",
   "execution_count": 21,
   "metadata": {},
   "outputs": [],
   "source": [
    "## function that does gradient desent with regularisation or not\n",
    "'''return - optimal parametrs\n",
    "          - array holdind iteration indexes\n",
    "          - array holding error for each iteration\n",
    "'''\n",
    "def GD(qnew, design_matrix, y_values, alpha, epsalon, lambda_, boolean):\n",
    "    count_arr = np.array([])\n",
    "    error_arr = np.array([])\n",
    "    i = 0\n",
    "    qold = np.zeros(len(qnew))\n",
    "    hx = 1/(1 + np.exp(-(design_matrix @ qnew)))\n",
    "    \n",
    "    # regularization must occour\n",
    "    if(boolean):\n",
    "        while (np.linalg.norm(qnew - qold,2) > epsalon) and (i != 1000) :\n",
    "            count_arr = np.append(count_arr, i)\n",
    "            error_arr = np.append(error_arr, Errors(design_matrix,y_values,qnew))\n",
    "            qold = qnew\n",
    "            hx = 1/(1 + np.exp(-(qnew @ design_matrix.T)))\n",
    "            qnew = qold - alpha*(((hx - y_values) @ design_matrix) + regularizer(qold , lambda_))\n",
    "            i = i + 1\n",
    "        \n",
    "        return [qnew,count_arr,error_arr]\n",
    "    \n",
    "    # no regularisation is required\n",
    "    else:\n",
    "        while (np.linalg.norm(qnew - qold,2) > epsalon) and (i != 10000):\n",
    "            count_arr = np.append(count_arr, i)\n",
    "            error_arr = np.append(error_arr, Errors(design_matrix,y_values,qnew))\n",
    "            qold = qnew\n",
    "            hx = 1/(1 + np.exp(-(design_matrix @ qnew)))\n",
    "            qnew = qold - alpha*(((hx - y_values) @ design_matrix) )\n",
    "            i = i + 1\n",
    "            \n",
    "        return qnew,i"
   ]
  },
  {
   "cell_type": "code",
   "execution_count": 22,
   "metadata": {},
   "outputs": [],
   "source": [
    "# drows the confusion matrix\n",
    "def printConfusionMatrix(predicted_test):\n",
    "    #find the confusion matrix for the model\n",
    "    class_0_0 = 0 # in class 0 and classified in class 0\n",
    "    class_0_1 = 0 # in class 0 and classified in class 1\n",
    "    class_1_0 = 0 # in class 1 and classified in class 0\n",
    "    class_1_1 = 0 # in class 1 and classified in class 1\n",
    "    predicted = np.round(predicted_test)\n",
    "    for i in range(len(predicted)):\n",
    "        if(predicted[i] == 0 and test_targets[i] == 0):\n",
    "            ++class_0_0\n",
    "        if(predicted[i] == 0 and test_targets[i] == 0):\n",
    "            class_0_0 += 1\n",
    "\n",
    "        elif (predicted[i] == 0 and test_targets[i] == 1):\n",
    "            class_0_1 += 1\n",
    "\n",
    "        elif (predicted[i] == 1 and test_targets[i] == 0):\n",
    "            class_1_0 += 1\n",
    "\n",
    "        elif (predicted[i] == 1 and test_targets[i] == 1):\n",
    "            class_1_1 += 1\n",
    "        else:\n",
    "            print(\"i couldint classify: \", y_predicted)\n",
    "\n",
    "    print('       confusion Matrix        ')\n",
    "    print('-------------------------------')\n",
    "    print('%-s %-7s %-s %-5s %-s %-5s %-s' %('|',' ','|','class 0','|','class 1','|',))\n",
    "    print('-------------------------------')\n",
    "    print('%-s %-5s %-s %-7i %-s %-7i %-s' %('|','class 0','|',class_0_0,'|',class_0_1,'|'))\n",
    "    print('-------------------------------')\n",
    "    print('%-s %-5s %-s %-7i %-s %-7i %-s' %('|','class 1','|',class_1_0,'|',class_1_1,'|'))\n",
    "    print('-------------------------------')\n",
    "    accuracy = ((class_0_0 + class_1_1) / (class_0_0 + class_0_1 + class_1_0 + class_1_1)) * 100\n",
    "    print('The model is', accuracy,'%', 'acurate')"
   ]
  },
  {
   "cell_type": "markdown",
   "metadata": {},
   "source": [
    "#### Initial weights and they include the intercept (bias)"
   ]
  },
  {
   "cell_type": "code",
   "execution_count": 23,
   "metadata": {},
   "outputs": [],
   "source": [
    "# initial weights are\n",
    "params = params = np.random.uniform(-1, 1, train_features.shape[1])\n"
   ]
  },
  {
   "cell_type": "markdown",
   "metadata": {},
   "source": [
    "#### Training the model on the training data"
   ]
  },
  {
   "cell_type": "code",
   "execution_count": 24,
   "metadata": {},
   "outputs": [],
   "source": [
    "epsalon = 0.01\n",
    "lambda_ = 0.01\n",
    "alpha = 0.0001\n",
    "optimal_params, X, Y = GD(params,train_features, train_targets, alpha,epsalon, lambda_, True )\n"
   ]
  },
  {
   "cell_type": "markdown",
   "metadata": {},
   "source": [
    "#### Tweeking the hypaparameter using validation data\n",
    "1. Alpha \n",
    "2. lambda\n",
    "3. epsalon"
   ]
  },
  {
   "cell_type": "code",
   "execution_count": 25,
   "metadata": {},
   "outputs": [],
   "source": [
    "epsalon = 0.000001\n",
    "lambda_ = 0.01\n",
    "alpha = 0.001\n",
    "optimal_params_validated, X1, Y2 = GD(params,validate_features, validate_targets, alpha,epsalon, lambda_, True )"
   ]
  },
  {
   "cell_type": "markdown",
   "metadata": {},
   "source": [
    "# Predicting the Test Results\n"
   ]
  },
  {
   "cell_type": "code",
   "execution_count": 26,
   "metadata": {},
   "outputs": [
    {
     "name": "stdout",
     "output_type": "stream",
     "text": [
      "Prediction (without tweeking): [0.05509682 0.98720394 0.9188948  ... 0.07053679 0.98302428 0.94360283]\n",
      "\n",
      "Prediction (tweeked)         : [0.03583289 0.99903042 0.9993629  ... 0.03296608 0.99511141 0.99973732]\n"
     ]
    }
   ],
   "source": [
    "predicted_test1 = 1/(1 + np.exp(-(test_features @ optimal_params)))\n",
    "predicted_test2 = 1/(1 + np.exp(-(test_features @ optimal_params_validated)))\n",
    "print('Prediction (without tweeking):',predicted_test1)\n",
    "print('\\nPrediction (tweeked)         :',predicted_test2)"
   ]
  },
  {
   "cell_type": "markdown",
   "metadata": {},
   "source": [
    "# Analyzing the Accuracy of the Model\n",
    "\n"
   ]
  },
  {
   "cell_type": "markdown",
   "metadata": {},
   "source": [
    "#### Error on the training data"
   ]
  },
  {
   "cell_type": "code",
   "execution_count": 27,
   "metadata": {},
   "outputs": [
    {
     "name": "stdout",
     "output_type": "stream",
     "text": [
      "Training error:  1079.9089888423034\n"
     ]
    }
   ],
   "source": [
    "train_error = Errors(train_features,train_targets,optimal_params)\n",
    "print(\"Training error: \",train_error)"
   ]
  },
  {
   "cell_type": "markdown",
   "metadata": {},
   "source": [
    "#### Error on the validating data"
   ]
  },
  {
   "cell_type": "code",
   "execution_count": 28,
   "metadata": {},
   "outputs": [
    {
     "name": "stdout",
     "output_type": "stream",
     "text": [
      "Training error:  214.0882378804801\n"
     ]
    }
   ],
   "source": [
    "validate_error = Errors(validate_features,validate_targets,optimal_params_validated)\n",
    "print(\"Training error: \",validate_error)"
   ]
  },
  {
   "cell_type": "markdown",
   "metadata": {},
   "source": [
    "#### Error on the testng data"
   ]
  },
  {
   "cell_type": "code",
   "execution_count": 29,
   "metadata": {},
   "outputs": [
    {
     "name": "stdout",
     "output_type": "stream",
     "text": [
      "Testing error before tweeking hyperparameters:  351.292993205472\n",
      "Testing error after tweeking hyperparameters:  231.46200745014937\n"
     ]
    }
   ],
   "source": [
    "test_error1 = Errors(test_features,test_targets,optimal_params)\n",
    "test_error2 = Errors(test_features,test_targets,optimal_params_validated)\n",
    "\n",
    "print(\"Testing error before tweeking hyperparameters: \",test_error1)\n",
    "print(\"Testing error after tweeking hyperparameters: \",test_error2)"
   ]
  },
  {
   "cell_type": "markdown",
   "metadata": {},
   "source": [
    "#### confusion matrix"
   ]
  },
  {
   "cell_type": "code",
   "execution_count": 30,
   "metadata": {},
   "outputs": [
    {
     "name": "stdout",
     "output_type": "stream",
     "text": [
      "MODEL WITHOUT VALIDATED PARAMETRES\n",
      "       confusion Matrix        \n",
      "-------------------------------\n",
      "|         | class 0 | class 1 |\n",
      "-------------------------------\n",
      "| class 0 | 1059    | 99      |\n",
      "-------------------------------\n",
      "| class 1 | 0       | 957     |\n",
      "-------------------------------\n",
      "The model is 95.31914893617022 % acurate\n",
      "\n",
      "MODEL WITH VALIDATED PARAMETRES\n",
      "       confusion Matrix        \n",
      "-------------------------------\n",
      "|         | class 0 | class 1 |\n",
      "-------------------------------\n",
      "| class 0 | 1048    | 76      |\n",
      "-------------------------------\n",
      "| class 1 | 11      | 980     |\n",
      "-------------------------------\n",
      "The model is 95.88652482269504 % acurate\n"
     ]
    }
   ],
   "source": [
    "print(\"MODEL WITHOUT VALIDATED PARAMETRES\")\n",
    "printConfusionMatrix(predicted_test1)\n",
    "print()\n",
    "print(\"MODEL WITH VALIDATED PARAMETRES\")\n",
    "printConfusionMatrix(predicted_test2)"
   ]
  },
  {
   "cell_type": "markdown",
   "metadata": {},
   "source": [
    "# Visualizing Set Results\n",
    "\n"
   ]
  },
  {
   "cell_type": "code",
   "execution_count": 31,
   "metadata": {},
   "outputs": [
    {
     "data": {
      "image/png": "[encoded data removed]",
      "text/plain": [
       "<Figure size 432x288 with 1 Axes>"
      ]
     },
     "metadata": {
      "needs_background": "light"
     },
     "output_type": "display_data"
    },
    {
     "data": {
      "image/png": "[encoded data removed]",
      "text/plain": [
       "<Figure size 432x288 with 1 Axes>"
      ]
     },
     "metadata": {
      "needs_background": "light"
     },
     "output_type": "display_data"
    }
   ],
   "source": [
    "plt.plot(X,Y)\n",
    "plt.title(\"Training Error vs Number of Iteration\")\n",
    "plt.ylabel('Error')\n",
    "plt.xlabel('iteration')\n",
    "plt.show()\n",
    "\n",
    "plt.plot(X1,Y2)\n",
    "plt.title(\"Validation Error vs Number of Iteration\")\n",
    "plt.ylabel('Error')\n",
    "plt.xlabel('iteration')\n",
    "plt.show()"
   ]
  },
  {
   "cell_type": "code",
   "execution_count": null,
   "metadata": {},
   "outputs": [],
   "source": []
  }
 ],
 "metadata": {
  "kernelspec": {
   "display_name": "Python 3",
   "language": "python",
   "name": "python3"
  },
  "language_info": {
   "codemirror_mode": {
    "name": "ipython",
    "version": 3
   },
   "file_extension": ".py",
   "mimetype": "text/x-python",
   "name": "python",
   "nbconvert_exporter": "python",
   "pygments_lexer": "ipython3",
   "version": "3.8.5"
  }
 },
 "nbformat": 4,
 "nbformat_minor": 4
}
