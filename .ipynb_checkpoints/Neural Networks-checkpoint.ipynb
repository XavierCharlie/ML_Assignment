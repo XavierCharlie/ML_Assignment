{
 "cells": [
  {
   "cell_type": "markdown",
   "metadata": {},
   "source": [
    "# Bank Marketing"
   ]
  },
  {
   "cell_type": "markdown",
   "metadata": {},
   "source": [
    "## Overview"
   ]
  },
  {
   "cell_type": "markdown",
   "metadata": {},
   "source": [
    "The  data is related with direct marketing campaigns of a Portuguese banking institution. The marketing campaigns were based on phone calls. Often, more than one contact to the same client was required, in order to access if the product (bank term deposit) would be ('yes') or not ('no') subscribed.  \n",
    "\n",
    "We chose this dataset because its big enough, so when we split it into train, validation and test, these subsets will be relatively big for our algorithms to learn well increasing their accuracy and reliability also because Marketing is a very crucial part of every business, so knowing how to win a customer sounded very interesting to us since we are anticipating on changing the world in the business field in future.\n",
    "\n",
    "## Dataset Overview\n",
    "### The Dataset has 20 Input Variables  (Features):\n",
    "\n",
    "**#bank client data:**  \n",
    "1 - _Age_ (numeric)  \n",
    "2 - _Job_ **:** type of job (categorical: 'admin.', 'blue-collar', 'entrepreneur', 'housemaid', 'management', 'retired', 'self-employed', 'services', 'student', 'technician', 'unemployed', 'unknown')  \n",
    "3 - _Marital_ **:** marital status (categorical: 'divorced','married','single','unknown'; note: 'divorced' means divorced or widowed)  \n",
    "4 - _Education_ (categorical:   'basic.4y', 'basic.6y', 'basic.9y', 'high.school', 'illiterate', 'professional.course', 'university.degree', 'unknown')  \n",
    "5 - _Default_ **:** has credit in default? (categorical: 'no', 'yes', 'unknown')\n",
    "6 - _Housing_ **:** has housing loan? (categorical: 'no', 'yes', 'unknown')  \n",
    "7 - _Loan_ **:** has personal loan? (categorical: 'no', 'yes', 'unknown')  \n",
    "\n",
    "**#related with the last contact of the current campaign:**  \n",
    "8 - _Contact_ **:** contact communication type (categorical: 'cellular', 'telephone')  \n",
    "9 - _Month_ **:** last contact month of year (categorical: 'jan', 'feb', 'mar', ..., 'nov', 'dec')  \n",
    "10 - _Day_of_week_ **:** last contact day of the week (categorical: 'mon', 'tue', 'wed', 'thu', 'fri')  \n",
    "11 - _Duration_ **:** last contact duration, in seconds (numeric). Important note: this attribute highly affects the output target (e.g., if duration=0 then y='no'). Yet, the duration is not known before a call is performed. Also, after the end of the call y is obviously known. Thus, this input should only be included for benchmark purposes and should be discarded if the intention is to have a realistic predictive model.  \n",
    "\n",
    "**#other attributes:**  \n",
    "12 - _Campaign_ **:** number of contacts performed during this campaign and for this client (numeric, includes last contact)  \n",
    "13 - _pDays_ **:** number of days that passed by after the client was last contacted from a previous campaign (numeric; 999 means client was not previously contacted)  \n",
    "14 - _Previous_ **:** number of contacts performed before this campaign and for this client (numeric)  \n",
    "15 - _pOutcome_ **:** outcome of the previous marketing campaign (categorical: 'failure', 'nonexistent', 'success')  \n",
    "\n",
    "**#social and economic context attributes**  \n",
    "16 - _emp.var.rate_ **:** employment variation rate - quarterly indicator (numeric)  \n",
    "17 - _cons.price.idx_ **:** consumer price index - monthly indicator (numeric)  \n",
    "18 - _cons.conf.idx_ **:** consumer confidence index - monthly indicator (numeric)  \n",
    "19 - _Euribor3m_ **:** euribor 3 month rate - daily indicator (numeric)  \n",
    "20 - _nr.employed_ **:** number of employees - quarterly indicator (numeric)  \n",
    "\n",
    "### Output Variable (Desired Target):\n",
    "y - has the client subscribed a term deposit? (binary: 'yes', 'no')"
   ]
  },
  {
   "cell_type": "markdown",
   "metadata": {},
   "source": [
    "## Contributors:\n",
    "* Phillip Moyo – 2185695   \n",
    "* Moshito Charles Makgakga – 1445435   \n",
    "* Godfrey T Chamunogwa – 2234379\n",
    "* Fankholoro Vincent Sebothoma – 1671848   "
   ]
  },
  {
   "cell_type": "markdown",
   "metadata": {},
   "source": [
    "# Neural Networks"
   ]
  },
  {
   "cell_type": "markdown",
   "metadata": {},
   "source": [
    "# Import Libraries"
   ]
  },
  {
   "cell_type": "code",
   "execution_count": 28,
   "metadata": {},
   "outputs": [],
   "source": [
    "import numpy as np\n",
    "import matplotlib.pyplot as plt\n",
    "import pandas as pd\n",
    "import matplotlib.pyplot as plt\n",
    "from sklearn.preprocessing import LabelEncoder,OneHotEncoder,MinMaxScaler"
   ]
  },
  {
   "cell_type": "markdown",
   "metadata": {},
   "source": [
    "# Import the Dataset\n"
   ]
  },
  {
   "cell_type": "code",
   "execution_count": 29,
   "metadata": {
    "scrolled": false
   },
   "outputs": [],
   "source": [
    "df = pd.read_csv('bank-full.csv', sep=\";\")"
   ]
  },
  {
   "cell_type": "markdown",
   "metadata": {},
   "source": [
    "## Trimming the Data\n",
    "The Data is heavily biased, so we are trimming it to make the different output classes more even (unbiased)"
   ]
  },
  {
   "cell_type": "code",
   "execution_count": 30,
   "metadata": {
    "scrolled": false
   },
   "outputs": [
    {
     "data": {
      "text/html": [
       "<div>\n",
       "<style scoped>\n",
       "    .dataframe tbody tr th:only-of-type {\n",
       "        vertical-align: middle;\n",
       "    }\n",
       "\n",
       "    .dataframe tbody tr th {\n",
       "        vertical-align: top;\n",
       "    }\n",
       "\n",
       "    .dataframe thead th {\n",
       "        text-align: right;\n",
       "    }\n",
       "</style>\n",
       "<table border=\"1\" class=\"dataframe\">\n",
       "  <thead>\n",
       "    <tr style=\"text-align: right;\">\n",
       "      <th></th>\n",
       "      <th>age</th>\n",
       "      <th>job</th>\n",
       "      <th>marital</th>\n",
       "      <th>education</th>\n",
       "      <th>default</th>\n",
       "      <th>balance</th>\n",
       "      <th>housing</th>\n",
       "      <th>loan</th>\n",
       "      <th>contact</th>\n",
       "      <th>day</th>\n",
       "      <th>month</th>\n",
       "      <th>duration</th>\n",
       "      <th>campaign</th>\n",
       "      <th>pdays</th>\n",
       "      <th>previous</th>\n",
       "      <th>poutcome</th>\n",
       "      <th>y</th>\n",
       "    </tr>\n",
       "  </thead>\n",
       "  <tbody>\n",
       "    <tr>\n",
       "      <th>0</th>\n",
       "      <td>55</td>\n",
       "      <td>admin.</td>\n",
       "      <td>married</td>\n",
       "      <td>secondary</td>\n",
       "      <td>no</td>\n",
       "      <td>183</td>\n",
       "      <td>yes</td>\n",
       "      <td>no</td>\n",
       "      <td>unknown</td>\n",
       "      <td>6</td>\n",
       "      <td>may</td>\n",
       "      <td>150</td>\n",
       "      <td>1</td>\n",
       "      <td>-1</td>\n",
       "      <td>0</td>\n",
       "      <td>unknown</td>\n",
       "      <td>no</td>\n",
       "    </tr>\n",
       "    <tr>\n",
       "      <th>1</th>\n",
       "      <td>39</td>\n",
       "      <td>blue-collar</td>\n",
       "      <td>single</td>\n",
       "      <td>secondary</td>\n",
       "      <td>no</td>\n",
       "      <td>169</td>\n",
       "      <td>yes</td>\n",
       "      <td>no</td>\n",
       "      <td>unknown</td>\n",
       "      <td>9</td>\n",
       "      <td>may</td>\n",
       "      <td>38</td>\n",
       "      <td>1</td>\n",
       "      <td>-1</td>\n",
       "      <td>0</td>\n",
       "      <td>unknown</td>\n",
       "      <td>no</td>\n",
       "    </tr>\n",
       "    <tr>\n",
       "      <th>2</th>\n",
       "      <td>41</td>\n",
       "      <td>management</td>\n",
       "      <td>married</td>\n",
       "      <td>tertiary</td>\n",
       "      <td>no</td>\n",
       "      <td>27696</td>\n",
       "      <td>no</td>\n",
       "      <td>no</td>\n",
       "      <td>cellular</td>\n",
       "      <td>12</td>\n",
       "      <td>feb</td>\n",
       "      <td>138</td>\n",
       "      <td>2</td>\n",
       "      <td>184</td>\n",
       "      <td>3</td>\n",
       "      <td>success</td>\n",
       "      <td>yes</td>\n",
       "    </tr>\n",
       "    <tr>\n",
       "      <th>3</th>\n",
       "      <td>29</td>\n",
       "      <td>technician</td>\n",
       "      <td>single</td>\n",
       "      <td>secondary</td>\n",
       "      <td>no</td>\n",
       "      <td>674</td>\n",
       "      <td>no</td>\n",
       "      <td>no</td>\n",
       "      <td>cellular</td>\n",
       "      <td>30</td>\n",
       "      <td>apr</td>\n",
       "      <td>483</td>\n",
       "      <td>1</td>\n",
       "      <td>13</td>\n",
       "      <td>5</td>\n",
       "      <td>success</td>\n",
       "      <td>yes</td>\n",
       "    </tr>\n",
       "    <tr>\n",
       "      <th>4</th>\n",
       "      <td>42</td>\n",
       "      <td>technician</td>\n",
       "      <td>married</td>\n",
       "      <td>tertiary</td>\n",
       "      <td>no</td>\n",
       "      <td>239</td>\n",
       "      <td>yes</td>\n",
       "      <td>yes</td>\n",
       "      <td>unknown</td>\n",
       "      <td>6</td>\n",
       "      <td>may</td>\n",
       "      <td>191</td>\n",
       "      <td>3</td>\n",
       "      <td>-1</td>\n",
       "      <td>0</td>\n",
       "      <td>unknown</td>\n",
       "      <td>no</td>\n",
       "    </tr>\n",
       "    <tr>\n",
       "      <th>...</th>\n",
       "      <td>...</td>\n",
       "      <td>...</td>\n",
       "      <td>...</td>\n",
       "      <td>...</td>\n",
       "      <td>...</td>\n",
       "      <td>...</td>\n",
       "      <td>...</td>\n",
       "      <td>...</td>\n",
       "      <td>...</td>\n",
       "      <td>...</td>\n",
       "      <td>...</td>\n",
       "      <td>...</td>\n",
       "      <td>...</td>\n",
       "      <td>...</td>\n",
       "      <td>...</td>\n",
       "      <td>...</td>\n",
       "      <td>...</td>\n",
       "    </tr>\n",
       "    <tr>\n",
       "      <th>10573</th>\n",
       "      <td>54</td>\n",
       "      <td>admin.</td>\n",
       "      <td>divorced</td>\n",
       "      <td>secondary</td>\n",
       "      <td>no</td>\n",
       "      <td>1814</td>\n",
       "      <td>no</td>\n",
       "      <td>no</td>\n",
       "      <td>unknown</td>\n",
       "      <td>13</td>\n",
       "      <td>may</td>\n",
       "      <td>521</td>\n",
       "      <td>1</td>\n",
       "      <td>-1</td>\n",
       "      <td>0</td>\n",
       "      <td>unknown</td>\n",
       "      <td>no</td>\n",
       "    </tr>\n",
       "    <tr>\n",
       "      <th>10574</th>\n",
       "      <td>32</td>\n",
       "      <td>services</td>\n",
       "      <td>single</td>\n",
       "      <td>secondary</td>\n",
       "      <td>no</td>\n",
       "      <td>228</td>\n",
       "      <td>yes</td>\n",
       "      <td>no</td>\n",
       "      <td>unknown</td>\n",
       "      <td>20</td>\n",
       "      <td>may</td>\n",
       "      <td>257</td>\n",
       "      <td>1</td>\n",
       "      <td>-1</td>\n",
       "      <td>0</td>\n",
       "      <td>unknown</td>\n",
       "      <td>no</td>\n",
       "    </tr>\n",
       "    <tr>\n",
       "      <th>10575</th>\n",
       "      <td>45</td>\n",
       "      <td>blue-collar</td>\n",
       "      <td>married</td>\n",
       "      <td>unknown</td>\n",
       "      <td>no</td>\n",
       "      <td>1263</td>\n",
       "      <td>yes</td>\n",
       "      <td>no</td>\n",
       "      <td>unknown</td>\n",
       "      <td>19</td>\n",
       "      <td>may</td>\n",
       "      <td>283</td>\n",
       "      <td>3</td>\n",
       "      <td>-1</td>\n",
       "      <td>0</td>\n",
       "      <td>unknown</td>\n",
       "      <td>no</td>\n",
       "    </tr>\n",
       "    <tr>\n",
       "      <th>10576</th>\n",
       "      <td>33</td>\n",
       "      <td>services</td>\n",
       "      <td>married</td>\n",
       "      <td>secondary</td>\n",
       "      <td>no</td>\n",
       "      <td>22</td>\n",
       "      <td>yes</td>\n",
       "      <td>no</td>\n",
       "      <td>unknown</td>\n",
       "      <td>5</td>\n",
       "      <td>may</td>\n",
       "      <td>71</td>\n",
       "      <td>1</td>\n",
       "      <td>-1</td>\n",
       "      <td>0</td>\n",
       "      <td>unknown</td>\n",
       "      <td>no</td>\n",
       "    </tr>\n",
       "    <tr>\n",
       "      <th>10577</th>\n",
       "      <td>29</td>\n",
       "      <td>management</td>\n",
       "      <td>single</td>\n",
       "      <td>tertiary</td>\n",
       "      <td>no</td>\n",
       "      <td>572</td>\n",
       "      <td>no</td>\n",
       "      <td>no</td>\n",
       "      <td>cellular</td>\n",
       "      <td>16</td>\n",
       "      <td>dec</td>\n",
       "      <td>314</td>\n",
       "      <td>1</td>\n",
       "      <td>195</td>\n",
       "      <td>1</td>\n",
       "      <td>success</td>\n",
       "      <td>yes</td>\n",
       "    </tr>\n",
       "  </tbody>\n",
       "</table>\n",
       "<p>10578 rows × 17 columns</p>\n",
       "</div>"
      ],
      "text/plain": [
       "       age          job   marital  education default  balance housing loan  \\\n",
       "0       55       admin.   married  secondary      no      183     yes   no   \n",
       "1       39  blue-collar    single  secondary      no      169     yes   no   \n",
       "2       41   management   married   tertiary      no    27696      no   no   \n",
       "3       29   technician    single  secondary      no      674      no   no   \n",
       "4       42   technician   married   tertiary      no      239     yes  yes   \n",
       "...    ...          ...       ...        ...     ...      ...     ...  ...   \n",
       "10573   54       admin.  divorced  secondary      no     1814      no   no   \n",
       "10574   32     services    single  secondary      no      228     yes   no   \n",
       "10575   45  blue-collar   married    unknown      no     1263     yes   no   \n",
       "10576   33     services   married  secondary      no       22     yes   no   \n",
       "10577   29   management    single   tertiary      no      572      no   no   \n",
       "\n",
       "        contact  day month  duration  campaign  pdays  previous poutcome    y  \n",
       "0       unknown    6   may       150         1     -1         0  unknown   no  \n",
       "1       unknown    9   may        38         1     -1         0  unknown   no  \n",
       "2      cellular   12   feb       138         2    184         3  success  yes  \n",
       "3      cellular   30   apr       483         1     13         5  success  yes  \n",
       "4       unknown    6   may       191         3     -1         0  unknown   no  \n",
       "...         ...  ...   ...       ...       ...    ...       ...      ...  ...  \n",
       "10573   unknown   13   may       521         1     -1         0  unknown   no  \n",
       "10574   unknown   20   may       257         1     -1         0  unknown   no  \n",
       "10575   unknown   19   may       283         3     -1         0  unknown   no  \n",
       "10576   unknown    5   may        71         1     -1         0  unknown   no  \n",
       "10577  cellular   16   dec       314         1    195         1  success  yes  \n",
       "\n",
       "[10578 rows x 17 columns]"
      ]
     },
     "execution_count": 30,
     "metadata": {},
     "output_type": "execute_result"
    }
   ],
   "source": [
    "df_yes = df[df['y']=='yes']\n",
    "df_no = df[df['y']=='no']\n",
    "df_no = df_no.iloc[:5289, :]\n",
    "\n",
    "df = pd.concat([df_yes, df_no])\n",
    "df = df.sample(frac=1).reset_index(drop=True)       #shuffle the rows\n",
    "df"
   ]
  },
  {
   "cell_type": "markdown",
   "metadata": {},
   "source": [
    "# Feature Scaling"
   ]
  },
  {
   "cell_type": "code",
   "execution_count": 31,
   "metadata": {
    "scrolled": false
   },
   "outputs": [],
   "source": [
    "##--scaling column(y)=> 'yes'=1 and 'no'=0 also @there are no null values in our dataset---##\n",
    "y = LabelEncoder()\n",
    "df.iloc[:,-1] = y.fit_transform(df.iloc[:,-1])"
   ]
  },
  {
   "cell_type": "code",
   "execution_count": 32,
   "metadata": {},
   "outputs": [],
   "source": [
    "##--scaling column(poutcome)=> 'failure'=0, 'other'=1, 'success'=2, 'unknown'=3\n",
    "poutcome = LabelEncoder()\n",
    "df.iloc[:,-2] = poutcome.fit_transform(df.iloc[:,-2])"
   ]
  },
  {
   "cell_type": "code",
   "execution_count": 33,
   "metadata": {},
   "outputs": [],
   "source": [
    "##--scaling column(contact)=> 'cellular'=0, 'telephone'=1, 'unknown'=2\n",
    "contact = LabelEncoder()\n",
    "df.iloc[:,8] = contact.fit_transform(df.iloc[:,8])"
   ]
  },
  {
   "cell_type": "code",
   "execution_count": 34,
   "metadata": {},
   "outputs": [],
   "source": [
    "##--scaling column(marital)=> 'married'=1, 'divorced'=0, 'single'=2\n",
    "marital = LabelEncoder()\n",
    "df.iloc[:,2] = marital.fit_transform(df.iloc[:,2])"
   ]
  },
  {
   "cell_type": "code",
   "execution_count": 35,
   "metadata": {},
   "outputs": [],
   "source": [
    "##--scaling column(education)=> 'primary'=0, 'secondary'=1, 'tertiary'=2, 'unknown'=3\n",
    "education = LabelEncoder()\n",
    "df.iloc[:,3] = education.fit_transform(df.iloc[:,3])"
   ]
  },
  {
   "cell_type": "code",
   "execution_count": 36,
   "metadata": {},
   "outputs": [],
   "source": [
    "##--scaling column(default)=> 'yes'=1, 'no'=0'\n",
    "default = LabelEncoder()\n",
    "df.iloc[:,4] = default.fit_transform(df.iloc[:,4])"
   ]
  },
  {
   "cell_type": "code",
   "execution_count": 37,
   "metadata": {},
   "outputs": [],
   "source": [
    "##--scaling column(housing)=> 'yes'=1, 'no'=0'\n",
    "housing = LabelEncoder()\n",
    "df.iloc[:,6] = housing.fit_transform(df.iloc[:,6])"
   ]
  },
  {
   "cell_type": "code",
   "execution_count": 38,
   "metadata": {
    "scrolled": false
   },
   "outputs": [],
   "source": [
    "##--scaling column(loan)=> 'yes'=1, 'no'=0'\n",
    "loan = LabelEncoder()\n",
    "df.iloc[:,7] = loan.fit_transform(df.iloc[:,7])"
   ]
  },
  {
   "cell_type": "code",
   "execution_count": 39,
   "metadata": {
    "scrolled": true
   },
   "outputs": [],
   "source": [
    "##--scaling column(month)=> 'jan'=1,'feb'=2, 'mar'=3,...,'dec'=12\n",
    "month = df.iloc[:,10].replace(['jan','feb','mar','apr','may','jun','jul','aug','sep','oct','nov','dec'],[1,2,3,4,5,6,7,8,9,10,11,12])\n",
    "df.iloc[:,10] = month "
   ]
  },
  {
   "cell_type": "code",
   "execution_count": 40,
   "metadata": {},
   "outputs": [],
   "source": [
    "##--scaling column(job)\n",
    "job = df.iloc[:,1].replace(['blue-collar', 'admin.', 'technician', 'management', 'retired','student', 'entrepreneur', 'services', 'self-employed','unemployed', 'housemaid', 'unknown'],[1,2,3,4,5,6,7,8,9,10,11,12])\n",
    "df.iloc[:,1] = job "
   ]
  },
  {
   "cell_type": "code",
   "execution_count": 41,
   "metadata": {},
   "outputs": [],
   "source": [
    "# add bias column of 1's\n",
    "df.insert(0, 'bias', np.ones(df.shape[0]))"
   ]
  },
  {
   "cell_type": "code",
   "execution_count": 42,
   "metadata": {},
   "outputs": [
    {
     "data": {
      "text/html": [
       "<div>\n",
       "<style scoped>\n",
       "    .dataframe tbody tr th:only-of-type {\n",
       "        vertical-align: middle;\n",
       "    }\n",
       "\n",
       "    .dataframe tbody tr th {\n",
       "        vertical-align: top;\n",
       "    }\n",
       "\n",
       "    .dataframe thead th {\n",
       "        text-align: right;\n",
       "    }\n",
       "</style>\n",
       "<table border=\"1\" class=\"dataframe\">\n",
       "  <thead>\n",
       "    <tr style=\"text-align: right;\">\n",
       "      <th></th>\n",
       "      <th>bias</th>\n",
       "      <th>age</th>\n",
       "      <th>job</th>\n",
       "      <th>marital</th>\n",
       "      <th>education</th>\n",
       "      <th>default</th>\n",
       "      <th>balance</th>\n",
       "      <th>housing</th>\n",
       "      <th>loan</th>\n",
       "      <th>contact</th>\n",
       "      <th>day</th>\n",
       "      <th>month</th>\n",
       "      <th>duration</th>\n",
       "      <th>campaign</th>\n",
       "      <th>pdays</th>\n",
       "      <th>previous</th>\n",
       "      <th>poutcome</th>\n",
       "      <th>y</th>\n",
       "    </tr>\n",
       "  </thead>\n",
       "  <tbody>\n",
       "    <tr>\n",
       "      <th>0</th>\n",
       "      <td>1.0</td>\n",
       "      <td>0.480519</td>\n",
       "      <td>0.090909</td>\n",
       "      <td>0.5</td>\n",
       "      <td>0.333333</td>\n",
       "      <td>0.0</td>\n",
       "      <td>0.041364</td>\n",
       "      <td>1.0</td>\n",
       "      <td>0.0</td>\n",
       "      <td>1.0</td>\n",
       "      <td>0.166667</td>\n",
       "      <td>0.363636</td>\n",
       "      <td>0.038154</td>\n",
       "      <td>0.000000</td>\n",
       "      <td>0.000000</td>\n",
       "      <td>0.000000</td>\n",
       "      <td>1.000000</td>\n",
       "      <td>0</td>\n",
       "    </tr>\n",
       "    <tr>\n",
       "      <th>1</th>\n",
       "      <td>1.0</td>\n",
       "      <td>0.272727</td>\n",
       "      <td>0.000000</td>\n",
       "      <td>1.0</td>\n",
       "      <td>0.333333</td>\n",
       "      <td>0.0</td>\n",
       "      <td>0.041199</td>\n",
       "      <td>1.0</td>\n",
       "      <td>0.0</td>\n",
       "      <td>1.0</td>\n",
       "      <td>0.266667</td>\n",
       "      <td>0.363636</td>\n",
       "      <td>0.009281</td>\n",
       "      <td>0.000000</td>\n",
       "      <td>0.000000</td>\n",
       "      <td>0.000000</td>\n",
       "      <td>1.000000</td>\n",
       "      <td>0</td>\n",
       "    </tr>\n",
       "    <tr>\n",
       "      <th>2</th>\n",
       "      <td>1.0</td>\n",
       "      <td>0.298701</td>\n",
       "      <td>0.272727</td>\n",
       "      <td>0.5</td>\n",
       "      <td>0.666667</td>\n",
       "      <td>0.0</td>\n",
       "      <td>0.366897</td>\n",
       "      <td>0.0</td>\n",
       "      <td>0.0</td>\n",
       "      <td>0.0</td>\n",
       "      <td>0.366667</td>\n",
       "      <td>0.090909</td>\n",
       "      <td>0.035061</td>\n",
       "      <td>0.016129</td>\n",
       "      <td>0.216374</td>\n",
       "      <td>0.051724</td>\n",
       "      <td>0.666667</td>\n",
       "      <td>1</td>\n",
       "    </tr>\n",
       "    <tr>\n",
       "      <th>3</th>\n",
       "      <td>1.0</td>\n",
       "      <td>0.142857</td>\n",
       "      <td>0.181818</td>\n",
       "      <td>1.0</td>\n",
       "      <td>0.333333</td>\n",
       "      <td>0.0</td>\n",
       "      <td>0.047174</td>\n",
       "      <td>0.0</td>\n",
       "      <td>0.0</td>\n",
       "      <td>0.0</td>\n",
       "      <td>0.966667</td>\n",
       "      <td>0.272727</td>\n",
       "      <td>0.124001</td>\n",
       "      <td>0.000000</td>\n",
       "      <td>0.016374</td>\n",
       "      <td>0.086207</td>\n",
       "      <td>0.666667</td>\n",
       "      <td>1</td>\n",
       "    </tr>\n",
       "    <tr>\n",
       "      <th>4</th>\n",
       "      <td>1.0</td>\n",
       "      <td>0.311688</td>\n",
       "      <td>0.181818</td>\n",
       "      <td>0.5</td>\n",
       "      <td>0.666667</td>\n",
       "      <td>0.0</td>\n",
       "      <td>0.042027</td>\n",
       "      <td>1.0</td>\n",
       "      <td>1.0</td>\n",
       "      <td>1.0</td>\n",
       "      <td>0.166667</td>\n",
       "      <td>0.363636</td>\n",
       "      <td>0.048724</td>\n",
       "      <td>0.032258</td>\n",
       "      <td>0.000000</td>\n",
       "      <td>0.000000</td>\n",
       "      <td>1.000000</td>\n",
       "      <td>0</td>\n",
       "    </tr>\n",
       "    <tr>\n",
       "      <th>...</th>\n",
       "      <td>...</td>\n",
       "      <td>...</td>\n",
       "      <td>...</td>\n",
       "      <td>...</td>\n",
       "      <td>...</td>\n",
       "      <td>...</td>\n",
       "      <td>...</td>\n",
       "      <td>...</td>\n",
       "      <td>...</td>\n",
       "      <td>...</td>\n",
       "      <td>...</td>\n",
       "      <td>...</td>\n",
       "      <td>...</td>\n",
       "      <td>...</td>\n",
       "      <td>...</td>\n",
       "      <td>...</td>\n",
       "      <td>...</td>\n",
       "      <td>...</td>\n",
       "    </tr>\n",
       "    <tr>\n",
       "      <th>10573</th>\n",
       "      <td>1.0</td>\n",
       "      <td>0.467532</td>\n",
       "      <td>0.090909</td>\n",
       "      <td>0.0</td>\n",
       "      <td>0.333333</td>\n",
       "      <td>0.0</td>\n",
       "      <td>0.060662</td>\n",
       "      <td>0.0</td>\n",
       "      <td>0.0</td>\n",
       "      <td>1.0</td>\n",
       "      <td>0.400000</td>\n",
       "      <td>0.363636</td>\n",
       "      <td>0.133797</td>\n",
       "      <td>0.000000</td>\n",
       "      <td>0.000000</td>\n",
       "      <td>0.000000</td>\n",
       "      <td>1.000000</td>\n",
       "      <td>0</td>\n",
       "    </tr>\n",
       "    <tr>\n",
       "      <th>10574</th>\n",
       "      <td>1.0</td>\n",
       "      <td>0.181818</td>\n",
       "      <td>0.636364</td>\n",
       "      <td>1.0</td>\n",
       "      <td>0.333333</td>\n",
       "      <td>0.0</td>\n",
       "      <td>0.041897</td>\n",
       "      <td>1.0</td>\n",
       "      <td>0.0</td>\n",
       "      <td>1.0</td>\n",
       "      <td>0.633333</td>\n",
       "      <td>0.363636</td>\n",
       "      <td>0.065739</td>\n",
       "      <td>0.000000</td>\n",
       "      <td>0.000000</td>\n",
       "      <td>0.000000</td>\n",
       "      <td>1.000000</td>\n",
       "      <td>0</td>\n",
       "    </tr>\n",
       "    <tr>\n",
       "      <th>10575</th>\n",
       "      <td>1.0</td>\n",
       "      <td>0.350649</td>\n",
       "      <td>0.000000</td>\n",
       "      <td>0.5</td>\n",
       "      <td>1.000000</td>\n",
       "      <td>0.0</td>\n",
       "      <td>0.054143</td>\n",
       "      <td>1.0</td>\n",
       "      <td>0.0</td>\n",
       "      <td>1.0</td>\n",
       "      <td>0.600000</td>\n",
       "      <td>0.363636</td>\n",
       "      <td>0.072441</td>\n",
       "      <td>0.032258</td>\n",
       "      <td>0.000000</td>\n",
       "      <td>0.000000</td>\n",
       "      <td>1.000000</td>\n",
       "      <td>0</td>\n",
       "    </tr>\n",
       "    <tr>\n",
       "      <th>10576</th>\n",
       "      <td>1.0</td>\n",
       "      <td>0.194805</td>\n",
       "      <td>0.636364</td>\n",
       "      <td>0.5</td>\n",
       "      <td>0.333333</td>\n",
       "      <td>0.0</td>\n",
       "      <td>0.039460</td>\n",
       "      <td>1.0</td>\n",
       "      <td>0.0</td>\n",
       "      <td>1.0</td>\n",
       "      <td>0.133333</td>\n",
       "      <td>0.363636</td>\n",
       "      <td>0.017788</td>\n",
       "      <td>0.000000</td>\n",
       "      <td>0.000000</td>\n",
       "      <td>0.000000</td>\n",
       "      <td>1.000000</td>\n",
       "      <td>0</td>\n",
       "    </tr>\n",
       "    <tr>\n",
       "      <th>10577</th>\n",
       "      <td>1.0</td>\n",
       "      <td>0.142857</td>\n",
       "      <td>0.272727</td>\n",
       "      <td>1.0</td>\n",
       "      <td>0.666667</td>\n",
       "      <td>0.0</td>\n",
       "      <td>0.045967</td>\n",
       "      <td>0.0</td>\n",
       "      <td>0.0</td>\n",
       "      <td>0.0</td>\n",
       "      <td>0.500000</td>\n",
       "      <td>1.000000</td>\n",
       "      <td>0.080433</td>\n",
       "      <td>0.000000</td>\n",
       "      <td>0.229240</td>\n",
       "      <td>0.017241</td>\n",
       "      <td>0.666667</td>\n",
       "      <td>1</td>\n",
       "    </tr>\n",
       "  </tbody>\n",
       "</table>\n",
       "<p>10578 rows × 18 columns</p>\n",
       "</div>"
      ],
      "text/plain": [
       "       bias       age       job  marital  education  default   balance  \\\n",
       "0       1.0  0.480519  0.090909      0.5   0.333333      0.0  0.041364   \n",
       "1       1.0  0.272727  0.000000      1.0   0.333333      0.0  0.041199   \n",
       "2       1.0  0.298701  0.272727      0.5   0.666667      0.0  0.366897   \n",
       "3       1.0  0.142857  0.181818      1.0   0.333333      0.0  0.047174   \n",
       "4       1.0  0.311688  0.181818      0.5   0.666667      0.0  0.042027   \n",
       "...     ...       ...       ...      ...        ...      ...       ...   \n",
       "10573   1.0  0.467532  0.090909      0.0   0.333333      0.0  0.060662   \n",
       "10574   1.0  0.181818  0.636364      1.0   0.333333      0.0  0.041897   \n",
       "10575   1.0  0.350649  0.000000      0.5   1.000000      0.0  0.054143   \n",
       "10576   1.0  0.194805  0.636364      0.5   0.333333      0.0  0.039460   \n",
       "10577   1.0  0.142857  0.272727      1.0   0.666667      0.0  0.045967   \n",
       "\n",
       "       housing  loan  contact       day     month  duration  campaign  \\\n",
       "0          1.0   0.0      1.0  0.166667  0.363636  0.038154  0.000000   \n",
       "1          1.0   0.0      1.0  0.266667  0.363636  0.009281  0.000000   \n",
       "2          0.0   0.0      0.0  0.366667  0.090909  0.035061  0.016129   \n",
       "3          0.0   0.0      0.0  0.966667  0.272727  0.124001  0.000000   \n",
       "4          1.0   1.0      1.0  0.166667  0.363636  0.048724  0.032258   \n",
       "...        ...   ...      ...       ...       ...       ...       ...   \n",
       "10573      0.0   0.0      1.0  0.400000  0.363636  0.133797  0.000000   \n",
       "10574      1.0   0.0      1.0  0.633333  0.363636  0.065739  0.000000   \n",
       "10575      1.0   0.0      1.0  0.600000  0.363636  0.072441  0.032258   \n",
       "10576      1.0   0.0      1.0  0.133333  0.363636  0.017788  0.000000   \n",
       "10577      0.0   0.0      0.0  0.500000  1.000000  0.080433  0.000000   \n",
       "\n",
       "          pdays  previous  poutcome  y  \n",
       "0      0.000000  0.000000  1.000000  0  \n",
       "1      0.000000  0.000000  1.000000  0  \n",
       "2      0.216374  0.051724  0.666667  1  \n",
       "3      0.016374  0.086207  0.666667  1  \n",
       "4      0.000000  0.000000  1.000000  0  \n",
       "...         ...       ...       ... ..  \n",
       "10573  0.000000  0.000000  1.000000  0  \n",
       "10574  0.000000  0.000000  1.000000  0  \n",
       "10575  0.000000  0.000000  1.000000  0  \n",
       "10576  0.000000  0.000000  1.000000  0  \n",
       "10577  0.229240  0.017241  0.666667  1  \n",
       "\n",
       "[10578 rows x 18 columns]"
      ]
     },
     "execution_count": 42,
     "metadata": {},
     "output_type": "execute_result"
    }
   ],
   "source": [
    "## scale the features\n",
    "scaler = MinMaxScaler()\n",
    "columns = ['age', 'job', 'marital', 'education', 'default', 'balance', 'housing', 'loan', 'contact', 'day', 'month', 'duration', 'campaign', 'pdays', 'previous', 'poutcome'] \n",
    "df[columns] = scaler.fit_transform(df[columns])\n",
    "df"
   ]
  },
  {
   "cell_type": "markdown",
   "metadata": {},
   "source": [
    "# Splitting the Dataset into Training, Validation and Test set"
   ]
  },
  {
   "cell_type": "markdown",
   "metadata": {},
   "source": [
    "#### Training data (60% of the data)"
   ]
  },
  {
   "cell_type": "code",
   "execution_count": 43,
   "metadata": {},
   "outputs": [],
   "source": [
    "# trining dataset\n",
    "train_data = df.iloc[:6347:]\n",
    "\n",
    "# training features\n",
    "train_features = train_data.iloc[:,:-1].values\n",
    "\n",
    "# training targets\n",
    "train_targets = train_data.iloc[:,-1].values\n"
   ]
  },
  {
   "cell_type": "markdown",
   "metadata": {},
   "source": [
    "#### Validation data (20% of the data)"
   ]
  },
  {
   "cell_type": "code",
   "execution_count": 44,
   "metadata": {},
   "outputs": [],
   "source": [
    "# validation dataset\n",
    "validate_data = df.iloc[6347:8463:]\n",
    "\n",
    "# validation features\n",
    "validate_features = validate_data.iloc[:,:-1].values\n",
    "\n",
    "# validation targets\n",
    "validate_targets = validate_data.iloc[:,-1].values\n"
   ]
  },
  {
   "cell_type": "markdown",
   "metadata": {},
   "source": [
    "#### Testing data (20% of the data)"
   ]
  },
  {
   "cell_type": "code",
   "execution_count": 45,
   "metadata": {},
   "outputs": [],
   "source": [
    "# testing dataset\n",
    "test_data = df.iloc[8463::]\n",
    "\n",
    "# testing features\n",
    "test_features = test_data.iloc[:,:-1].values\n",
    "\n",
    "# testing targets\n",
    "test_targets = test_data.iloc[:,-1].values"
   ]
  },
  {
   "cell_type": "markdown",
   "metadata": {},
   "source": [
    "# Training the Nueral Networks Model on the Training Set"
   ]
  },
  {
   "cell_type": "markdown",
   "metadata": {},
   "source": [
    "#### Architectural veiw of the network\n",
    "<img src=\"files/neuralNetwork.png\"  width='800rem'>"
   ]
  },
  {
   "cell_type": "markdown",
   "metadata": {},
   "source": [
    "#### Initial weights and they include the intercept (bias)"
   ]
  },
  {
   "cell_type": "code",
   "execution_count": 334,
   "metadata": {},
   "outputs": [],
   "source": [
    "Q1 = np.random.uniform(0, 1, size=(2,17)) # 2x17\n",
    "Q2 = np.random.uniform(0, 1, size=(1, 3)) # 2x3 -> 1X3"
   ]
  },
  {
   "cell_type": "markdown",
   "metadata": {},
   "source": [
    "#### Useful functions"
   ]
  },
  {
   "cell_type": "code",
   "execution_count": 335,
   "metadata": {},
   "outputs": [],
   "source": [
    "def sigmoid(x):\n",
    "    return 1/(1+np.exp(-x))"
   ]
  },
  {
   "cell_type": "code",
   "execution_count": 336,
   "metadata": {},
   "outputs": [],
   "source": [
    "# forward prop. X data point, W1, W2 weight for the layers\n",
    "def forwardprop(X, W1, W2):\n",
    "    a1 = sigmoid(W1 @ X)\n",
    "    \n",
    "    a1 = np.insert(a1,0,1)\n",
    "    \n",
    "    a2 = sigmoid(W2 @ a1)\n",
    "    \n",
    "    return [a1,a2]\n",
    "# no change"
   ]
  },
  {
   "cell_type": "code",
   "execution_count": 337,
   "metadata": {},
   "outputs": [],
   "source": [
    "def backprop(Y, h, W, a):\n",
    "    e2 = h - Y\n",
    "    e1 = (W.T @ e2) * (a *(1 - a)) \n",
    "    return [e1[1::], e2]\n",
    "# no change"
   ]
  },
  {
   "cell_type": "code",
   "execution_count": 338,
   "metadata": {},
   "outputs": [],
   "source": [
    "def grad(x, e1, a, e2):\n",
    "    DL2 = np.array([e2]).T @ np.array([a])\n",
    "    DL1 = np.array([e1]).T @ np.array([x])\n",
    "\n",
    "    return [DL1, DL2]\n",
    "# no change"
   ]
  },
  {
   "cell_type": "code",
   "execution_count": 339,
   "metadata": {},
   "outputs": [],
   "source": [
    "def Errors(xValues,yValues,parametre1):\n",
    "    hx1 = 1/(1 + np.exp(-(parametre1 @ xValues.T)))\n",
    "    ans = -(1/len(yValues))*((yValues @ np.log(hx1).T +  (1 - yValues) @ np.log(1 - hx1).T))\n",
    "    return ans"
   ]
  },
  {
   "cell_type": "code",
   "execution_count": 340,
   "metadata": {},
   "outputs": [],
   "source": [
    "def regularizer(W,lambda_):\n",
    "    y = W\n",
    "    y[:,0] = 0\n",
    "    return lambda_ * (W+y)"
   ]
  },
  {
   "cell_type": "code",
   "execution_count": 351,
   "metadata": {},
   "outputs": [],
   "source": [
    "def NNlearning(data, target, Q1, Q2, alpha,epsalon, lambda_):\n",
    "    W1 = np.zeros((Q1.shape[0],Q1.shape[1]))\n",
    "    W2 = np.zeros((Q2.shape[0],Q2.shape[1]))\n",
    "    itr = 0\n",
    "    \n",
    "    while (np.linalg.norm(Q1-W1) > epsalon and np.linalg.norm(Q2-W2) > epsalon) and (itr != 100):\n",
    "        W1 = Q1\n",
    "        W2 = Q2\n",
    "        \n",
    "        for i in range(len(data)):\n",
    "            a, h = forwardprop(data[i], Q1, Q2) # forward prope\n",
    "            e1, e2 = backprop(target[i], h, Q2, a) # backpropergation\n",
    "            grad1, grad2 = grad(data[i], e1, a, e2) # gradients\n",
    "            \n",
    "            # gradient decent update\n",
    "            Q1 = W1 - (1/len(W1))*(alpha*(grad1) + regularizer(W1,lambda_))\n",
    "            Q2 = W2 - (1/len(W2))*(alpha*(grad2) + regularizer(W2,lambda_))\n",
    "            \n",
    "        itr = itr + 1\n",
    "        \n",
    "#         print(np.linalg.norm(Q1-W1))\n",
    "#         print(np.linalg.norm(Q2-W2))\n",
    "#         print()\n",
    "        \n",
    "    return [Q1, Q2, itr]"
   ]
  },
  {
   "cell_type": "code",
   "execution_count": 364,
   "metadata": {},
   "outputs": [],
   "source": [
    "# drows the confusion matrix\n",
    "def printConfusionMatrix(predicted_test):\n",
    "    #find the confusion matrix for the model\n",
    "    class_0_0 = 0 # in class 0 and classified in class 0\n",
    "    class_0_1 = 0 # in class 0 and classified in class 1\n",
    "    class_1_0 = 0 # in class 1 and classified in class 0\n",
    "    class_1_1 = 0 # in class 1 and classified in class 1\n",
    "    predicted = np.round(predicted_test)\n",
    "    for i in range(len(predicted)):\n",
    "        if(predicted[i] == 0 and test_targets[i] == 0):\n",
    "            ++class_0_0\n",
    "        if(predicted[i] == 0 and test_targets[i] == 0):\n",
    "            class_0_0 += 1\n",
    "\n",
    "        elif (predicted[i] == 0 and test_targets[i] == 1):\n",
    "            class_0_1 += 1\n",
    "\n",
    "        elif (predicted[i] == 1 and test_targets[i] == 0):\n",
    "            class_1_0 += 1\n",
    "\n",
    "        elif (predicted[i] == 1 and test_targets[i] == 1):\n",
    "            class_1_1 += 1\n",
    "        else:\n",
    "            print(\"i couldint classify: \", y_predicted)\n",
    "\n",
    "    print('       confusion Matrix        ')\n",
    "    print('-------------------------------')\n",
    "    print('%-s %-7s %-s %-5s %-s %-5s %-s' %('|',' ','|','class 0','|','class 1','|',))\n",
    "    print('-------------------------------')\n",
    "    print('%-s %-5s %-s %-7i %-s %-7i %-s' %('|','class 0','|',class_0_0,'|',class_0_1,'|'))\n",
    "    print('-------------------------------')\n",
    "    print('%-s %-5s %-s %-7i %-s %-7i %-s' %('|','class 1','|',class_1_0,'|',class_1_1,'|'))\n",
    "    print('-------------------------------')\n",
    "    accuracy = ((class_0_0 + class_1_1) / (class_0_0 + class_0_1 + class_1_0 + class_1_1)) * 100\n",
    "    print('The model is', accuracy,'%', 'acurate')"
   ]
  },
  {
   "cell_type": "markdown",
   "metadata": {},
   "source": [
    "#### Training the model on the training data"
   ]
  },
  {
   "cell_type": "code",
   "execution_count": 369,
   "metadata": {},
   "outputs": [],
   "source": [
    "\n",
    "alpha = 0.001\n",
    "epsalon = 0.001\n",
    "lambda_ = 0.1\n",
    "W_t1, W_t2, count_t  = NNlearning(train_features, train_targets, Q1, Q2, alpha, epsalon, lambda_)\n"
   ]
  },
  {
   "cell_type": "markdown",
   "metadata": {},
   "source": [
    "#### Tweeking the hypaparameter using validation data\n",
    "1. Alpha \n",
    "2. lambda\n",
    "3. epsalon"
   ]
  },
  {
   "cell_type": "code",
   "execution_count": 370,
   "metadata": {},
   "outputs": [],
   "source": [
    "# 0.0001\n",
    "# 0.001\n",
    "# 0.1\n",
    "alpha = 0.0001\n",
    "epsalon = 0.001\n",
    "lambda_ = 00.1\n",
    "W_v1, W_v2, count_v  = NNlearning(validate_features, validate_targets, Q1, Q2, alpha, epsalon, lambda_)"
   ]
  },
  {
   "cell_type": "markdown",
   "metadata": {},
   "source": [
    "# Predicting the Test Results\n"
   ]
  },
  {
   "cell_type": "code",
   "execution_count": 371,
   "metadata": {},
   "outputs": [],
   "source": [
    "predicted_test1 = np.array([])\n",
    "for i in range(len(test_features)):\n",
    "    predicted_test1 = np.append(predicted_test1,forwardprop(test_features[i],W_t1,W_t2)[1])\n",
    "\n",
    "# validation\n",
    "predicted_test2 = np.array([])\n",
    "for i in range(len(test_features)):\n",
    "    predicted_test2 = np.append(predicted_test2,forwardprop(test_features[i],W_v1,W_v2)[1])"
   ]
  },
  {
   "cell_type": "markdown",
   "metadata": {},
   "source": [
    "# Analyzing the Accuracy of the Model\n",
    "\n"
   ]
  },
  {
   "cell_type": "markdown",
   "metadata": {},
   "source": [
    "#### Error on the training data"
   ]
  },
  {
   "cell_type": "code",
   "execution_count": null,
   "metadata": {},
   "outputs": [],
   "source": []
  },
  {
   "cell_type": "markdown",
   "metadata": {},
   "source": [
    "#### Error on the testng data"
   ]
  },
  {
   "cell_type": "code",
   "execution_count": null,
   "metadata": {},
   "outputs": [],
   "source": []
  },
  {
   "cell_type": "markdown",
   "metadata": {},
   "source": [
    "#### confusion matrix"
   ]
  },
  {
   "cell_type": "code",
   "execution_count": 372,
   "metadata": {},
   "outputs": [
    {
     "name": "stdout",
     "output_type": "stream",
     "text": [
      "       confusion Matrix        \n",
      "-------------------------------\n",
      "|         | class 0 | class 1 |\n",
      "-------------------------------\n",
      "| class 0 | 0       | 0       |\n",
      "-------------------------------\n",
      "| class 1 | 994     | 1121    |\n",
      "-------------------------------\n",
      "The model is 53.00236406619385 % acurate\n",
      "       confusion Matrix        \n",
      "-------------------------------\n",
      "|         | class 0 | class 1 |\n",
      "-------------------------------\n",
      "| class 0 | 0       | 0       |\n",
      "-------------------------------\n",
      "| class 1 | 994     | 1121    |\n",
      "-------------------------------\n",
      "The model is 53.00236406619385 % acurate\n"
     ]
    }
   ],
   "source": [
    "printConfusionMatrix(predicted_test1)\n",
    "printConfusionMatrix(predicted_test2)"
   ]
  },
  {
   "cell_type": "markdown",
   "metadata": {},
   "source": [
    "# Visualizing Set Results\n",
    "\n"
   ]
  },
  {
   "cell_type": "code",
   "execution_count": null,
   "metadata": {},
   "outputs": [],
   "source": []
  }
 ],
 "metadata": {
  "kernelspec": {
   "display_name": "Python 3",
   "language": "python",
   "name": "python3"
  },
  "language_info": {
   "codemirror_mode": {
    "name": "ipython",
    "version": 3
   },
   "file_extension": ".py",
   "mimetype": "text/x-python",
   "name": "python",
   "nbconvert_exporter": "python",
   "pygments_lexer": "ipython3",
   "version": "3.8.5"
  }
 },
 "nbformat": 4,
 "nbformat_minor": 4
}
